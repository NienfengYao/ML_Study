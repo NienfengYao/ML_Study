{
 "cells": [
  {
   "cell_type": "code",
   "execution_count": 1,
   "metadata": {},
   "outputs": [],
   "source": [
    "import numpy as np"
   ]
  },
  {
   "cell_type": "markdown",
   "metadata": {},
   "source": [
    "# Section 1.1"
   ]
  },
  {
   "cell_type": "code",
   "execution_count": 2,
   "metadata": {},
   "outputs": [
    {
     "name": "stdout",
     "output_type": "stream",
     "text": [
      "[[-15.]\n",
      " [ 40.]\n",
      " [ 45.]\n",
      " [-75.]]\n"
     ]
    }
   ],
   "source": [
    "# 57\n",
    "\n",
    "A = np.array([[1, .5, .33, .25], \n",
    "              [.5, .33, .25, .21],\n",
    "              [.33, .25, .2, .17],\n",
    "              [.25, .2, .17, .14]])\n",
    "B = np.array([1.1, 1.2, 1.3, 1.4]).reshape(4, 1)\n",
    "X = np.linalg.solve(A, B)\n",
    "print(X)"
   ]
  },
  {
   "cell_type": "code",
   "execution_count": 3,
   "metadata": {},
   "outputs": [
    {
     "name": "stdout",
     "output_type": "stream",
     "text": [
      "[[-1.2]\n",
      " [-0.6]\n",
      " [ 2.4]]\n"
     ]
    }
   ],
   "source": [
    "# 59\n",
    "\n",
    "A = np.array([[123.5, 61.3, -32.4], \n",
    "              [54.7, -45.6, 98.2],\n",
    "              [42.4, -89.3, 12.9]])\n",
    "B = np.array([-262.74, 197.4, 33.66]).reshape(3, 1)\n",
    "X = np.linalg.solve(A, B)\n",
    "print(X)"
   ]
  },
  {
   "cell_type": "code",
   "execution_count": 4,
   "metadata": {},
   "outputs": [
    {
     "name": "stdout",
     "output_type": "stream",
     "text": [
      "[[ 0.2]\n",
      " [-0.8]\n",
      " [ 0.5]]\n"
     ]
    }
   ],
   "source": [
    "# 61 \n",
    "\n",
    "A = np.array([[1/2, -3/7, 2/9], \n",
    "              [2/3, 4/9, -2/5],\n",
    "              [4/5, -1/8, 4/3]])\n",
    "B = np.array([349/630, -19/45, 139/150]).reshape(3, 1)\n",
    "X = np.linalg.solve(A, B)\n",
    "print(X)"
   ]
  },
  {
   "cell_type": "code",
   "execution_count": 5,
   "metadata": {},
   "outputs": [
    {
     "name": "stdout",
     "output_type": "stream",
     "text": [
      "[[   6.88131073]\n",
      " [-163.31110688]\n",
      " [-210.29148409]\n",
      " [ -59.29129358]]\n"
     ]
    }
   ],
   "source": [
    "# 63\n",
    "\n",
    "A = np.array([[1/8, -1/7, 1/6, -1/5], \n",
    "              [1/7, 1/6, -1/5, 1/4],\n",
    "              [1/6, -1/5, 1/4, -1/3],\n",
    "              [1/5, 1/4, -1/3, 1/2]])\n",
    "B = np.array([1, 1, 1, 1]).reshape(4, 1)\n",
    "X = np.linalg.solve(A, B)\n",
    "print(X)"
   ]
  },
  {
   "cell_type": "markdown",
   "metadata": {},
   "source": [
    "# Section 1.2"
   ]
  },
  {
   "cell_type": "code",
   "execution_count": 6,
   "metadata": {},
   "outputs": [
    {
     "name": "stdout",
     "output_type": "stream",
     "text": [
      "[[ 1.  -2.   5.  -3.  23.6]\n",
      " [ 1.   4.  -7.  -2.  45.7]\n",
      " [ 3.  -5.   7.   4.  29.9]]\n",
      "[[ 1.          0.          0.         -0.52777778 23.53611111]\n",
      " [ 0.          1.          0.         -4.11111111 18.54444444]\n",
      " [-0.         -0.          1.         -2.13888889  7.43055556]]\n"
     ]
    }
   ],
   "source": [
    "# 37.\n",
    "\n",
    "A = np.array([[1, -2, 5, -3], \n",
    "              [1, 4, -7, -2],\n",
    "              [3, -5, 7, 4]])\n",
    "B = np.array([23.6, 45.7, 29.9]).reshape(3, 1)\n",
    "# print(A)\n",
    "# print(B)\n",
    "# A_inv = np.linalg.inv(A)\n",
    "# print(A_inv)\n",
    "C = np.concatenate((A, B), axis=1)\n",
    "print(C)\n",
    "R0 = C[0, :]\n",
    "R1 = C[1, :]\n",
    "R2 = C[2, :]\n",
    "R1 = R1 - R0\n",
    "R2 = R2 - 3*R0\n",
    "R2 = R2 - (1/6)*R1\n",
    "R2 = R2/(-6)\n",
    "R1 = R1/6 + 2*R2\n",
    "R0 = R0 + 2*R1 -5*R2\n",
    "R0 = R0.reshape(1, 5)\n",
    "R1 = R1.reshape(1, 5)\n",
    "R2 = R2.reshape(1, 5)\n",
    "rref = np.concatenate((R0, R1, R2))\n",
    "print(rref)"
   ]
  },
  {
   "cell_type": "code",
   "execution_count": 7,
   "metadata": {},
   "outputs": [
    {
     "name": "stdout",
     "output_type": "stream",
     "text": [
      "[[ 2.]\n",
      " [-2.]\n",
      " [ 3.]\n",
      " [-5.]\n",
      " [ 1.]]\n"
     ]
    }
   ],
   "source": [
    "# 39.\n",
    "\n",
    "A = np.array([[1, -1, 2, 2, 6], \n",
    "              [3, -2, 4, 4, 12],\n",
    "              [0, 1, -1, -1, -3],\n",
    "              [2, -2, 4, 5, 15],\n",
    "              [2, -2, 4, 4, 13]])\n",
    "B = np.array([6, 14, -3, 10, 13]).reshape(5, 1)\n",
    "X = np.linalg.solve(A, B)\n",
    "print(X)"
   ]
  },
  {
   "cell_type": "code",
   "execution_count": 8,
   "metadata": {},
   "outputs": [
    {
     "name": "stdout",
     "output_type": "stream",
     "text": [
      "[[ 1.]\n",
      " [-2.]\n",
      " [ 6.]\n",
      " [-3.]\n",
      " [-4.]\n",
      " [ 3.]]\n"
     ]
    }
   ],
   "source": [
    "# 41.\n",
    "\n",
    "A = np.array([[4, -3, 1, -1, 2, -1], \n",
    "              [1, -2, 1, -3, 1, -4],\n",
    "              [2, 1, -3, 1, -2, 5],\n",
    "              [-2, 3, -1, 1, -1, 2],\n",
    "              [1, -3, 1, -2, 1, -2],\n",
    "              [5, -4, -1, -1, 4, 5]])\n",
    "B = np.array([8, 4, 2, -7, 9, 9]).reshape(6, 1)\n",
    "X = np.linalg.solve(A, B)\n",
    "print(X)"
   ]
  },
  {
   "cell_type": "markdown",
   "metadata": {},
   "source": [
    "# Section 2.3"
   ]
  },
  {
   "cell_type": "code",
   "execution_count": 24,
   "metadata": {},
   "outputs": [
    {
     "name": "stdout",
     "output_type": "stream",
     "text": [
      "(5, 5) (5, 1) (5, 5)\n",
      "[[ 4.4408921e-16]\n",
      " [ 1.0000000e+00]\n",
      " [ 2.0000000e+00]\n",
      " [-1.0000000e+00]\n",
      " [-4.4408921e-16]]\n"
     ]
    }
   ],
   "source": [
    "# 29 \n",
    "A = np.array([[1, 2, -1, 3, -1], \n",
    "              [1, -3, 1, 2, -1],\n",
    "              [2, 1, 1, -3, 1],\n",
    "              [1, -1, 2, 1, -1],\n",
    "              [2, 1, -1, 2, 1]])\n",
    "B = np.array([-3, -3, 6, 2, -3]).reshape(5, 1)\n",
    "A_inv = np.linalg.inv(A)\n",
    "# print(A.shape, B.shape, A_inv.shape)\n",
    "print(np.dot(A_inv, B))\n",
    "# Ans: (0, 1, 2, -1, 0)"
   ]
  },
  {
   "cell_type": "code",
   "execution_count": 25,
   "metadata": {},
   "outputs": [
    {
     "name": "stdout",
     "output_type": "stream",
     "text": [
      "(6, 6) (6, 1) (6, 6)\n",
      "[[ 1.0000000e+00]\n",
      " [-2.0000000e+00]\n",
      " [ 3.0000000e+00]\n",
      " [ 4.4408921e-16]\n",
      " [ 1.0000000e+00]\n",
      " [-2.0000000e+00]]\n"
     ]
    }
   ],
   "source": [
    "# 31\n",
    "A = np.array([[2, -3, 1, -2, 1, -4], \n",
    "              [3, 1, -4, 1, -1, 2],\n",
    "              [4, 1, -3, 4, -1, 2],\n",
    "              [-5, -1, 4, 2, -5, 3],\n",
    "              [1, 1, -3, 4, -3, 1],\n",
    "              [3, -1, 2, -3, 2, -6]])\n",
    "B = np.array([20, -16, -12, -2, -15, 25]).reshape(6, 1)\n",
    "A_inv = np.linalg.inv(A)\n",
    "# print(A.shape, B.shape, A_inv.shape)\n",
    "print(np.dot(A_inv, B))\n",
    "# Ans: (1, -2, 3, 0, 1, -2)"
   ]
  },
  {
   "cell_type": "code",
   "execution_count": null,
   "metadata": {},
   "outputs": [],
   "source": []
  }
 ],
 "metadata": {
  "kernelspec": {
   "display_name": "Python 3",
   "language": "python",
   "name": "python3"
  },
  "language_info": {
   "codemirror_mode": {
    "name": "ipython",
    "version": 3
   },
   "file_extension": ".py",
   "mimetype": "text/x-python",
   "name": "python",
   "nbconvert_exporter": "python",
   "pygments_lexer": "ipython3",
   "version": "3.7.3"
  }
 },
 "nbformat": 4,
 "nbformat_minor": 2
}
