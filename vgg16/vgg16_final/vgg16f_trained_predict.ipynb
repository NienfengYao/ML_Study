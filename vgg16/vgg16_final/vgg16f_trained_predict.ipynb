{
 "cells": [
  {
   "cell_type": "code",
   "execution_count": 1,
   "metadata": {},
   "outputs": [],
   "source": [
    "import tensorflow as tf\n",
    "import numpy as np\n",
    "from scipy.misc import imresize\n",
    "from imageio import imread\n",
    "from imagenet_classes import class_names\n",
    "import matplotlib.pyplot as plt\n",
    "from vgg16 import vgg16\n",
    "%matplotlib inline"
   ]
  },
  {
   "cell_type": "code",
   "execution_count": 2,
   "metadata": {},
   "outputs": [],
   "source": [
    "weights = 'vgg16_weights.npz'"
   ]
  },
  {
   "cell_type": "code",
   "execution_count": 3,
   "metadata": {},
   "outputs": [],
   "source": [
    "def trained_predict():\n",
    "    with tf.Session() as sess:\n",
    "        imgs = tf.placeholder(tf.float32, [None, 224, 224, 3])\n",
    "        # vgg = vgg16(imgs, 'vgg16_weights.npz', sess)\n",
    "        vgg = vgg16(imgs)\n",
    "        if weights is not None and sess is not None:\n",
    "            vgg.load_weights(weights, sess)\n",
    "\n",
    "        img1 = imread('laska.png', pilmode=\"RGB\")\n",
    "        # img1 = imread('cat.jpg', mode='RGB')\n",
    "        # img1 = imread('dog.jpg', mode='RGB')\n",
    "        img1 = imresize(img1, (224, 224))\n",
    "\n",
    "        prob = sess.run(vgg.probs, feed_dict={vgg.imgs: [img1]})[0]\n",
    "        preds = (np.argsort(prob)[::-1])[0:5]\n",
    "        for p in preds:\n",
    "            print( class_names[p], prob[p])"
   ]
  },
  {
   "cell_type": "code",
   "execution_count": 4,
   "metadata": {},
   "outputs": [],
   "source": [
    "def trained_predict_multi():\n",
    "    with tf.Session() as sess:\n",
    "        imgs = tf.placeholder(tf.float32, [None, 224, 224, 3])\n",
    "        # vgg = vgg16(imgs, 'vgg16_weights.npz', sess)\n",
    "        vgg = vgg16(imgs)\n",
    "        if weights is not None and sess is not None:\n",
    "            vgg.load_weights(weights, sess)\n",
    "\n",
    "        imgs = []\n",
    "        for i in ['laska.png', 'cat.jpg', 'dog.jpg']:\n",
    "            img = imread(i, pilmode=\"RGB\")\n",
    "            img = imresize(img, (224, 224))\n",
    "            imgs.append(img)\n",
    "            \n",
    "        prob = sess.run(vgg.probs, feed_dict={vgg.imgs: imgs})\n",
    "        print(prob.shape)\n",
    "        for i in prob:\n",
    "            print(\"-\" * 25)\n",
    "            preds = (np.argsort(i)[::-1])[0:5]\n",
    "            for p in preds:\n",
    "                print( class_names[p], i[p])"
   ]
  },
  {
   "cell_type": "code",
   "execution_count": 5,
   "metadata": {},
   "outputs": [],
   "source": [
    "def show_pics():\n",
    "    plt.figure(figsize=(8,8))\n",
    "    for idx, fname in enumerate(['laska.png', 'cat.jpg', 'dog.jpg']):\n",
    "        plt.subplot(1, 3, idx+1)\n",
    "        img = plt.imread(f'{fname}')\n",
    "        plt.imshow(img);"
   ]
  },
  {
   "cell_type": "code",
   "execution_count": 6,
   "metadata": {},
   "outputs": [
    {
     "name": "stdout",
     "output_type": "stream",
     "text": [
      "0 conv1_1_W (3, 3, 3, 64)\n",
      "1 conv1_1_b (64,)\n",
      "2 conv1_2_W (3, 3, 64, 64)\n",
      "3 conv1_2_b (64,)\n",
      "4 conv2_1_W (3, 3, 64, 128)\n",
      "5 conv2_1_b (128,)\n",
      "6 conv2_2_W (3, 3, 128, 128)\n",
      "7 conv2_2_b (128,)\n",
      "8 conv3_1_W (3, 3, 128, 256)\n",
      "9 conv3_1_b (256,)\n",
      "10 conv3_2_W (3, 3, 256, 256)\n",
      "11 conv3_2_b (256,)\n",
      "12 conv3_3_W (3, 3, 256, 256)\n",
      "13 conv3_3_b (256,)\n",
      "14 conv4_1_W (3, 3, 256, 512)\n",
      "15 conv4_1_b (512,)\n",
      "16 conv4_2_W (3, 3, 512, 512)\n",
      "17 conv4_2_b (512,)\n",
      "18 conv4_3_W (3, 3, 512, 512)\n",
      "19 conv4_3_b (512,)\n",
      "20 conv5_1_W (3, 3, 512, 512)\n",
      "21 conv5_1_b (512,)\n",
      "22 conv5_2_W (3, 3, 512, 512)\n",
      "23 conv5_2_b (512,)\n",
      "24 conv5_3_W (3, 3, 512, 512)\n",
      "25 conv5_3_b (512,)\n",
      "26 fc6_W (25088, 4096)\n",
      "27 fc6_b (4096,)\n",
      "28 fc7_W (4096, 4096)\n",
      "29 fc7_b (4096,)\n",
      "30 fc8_W (4096, 1000)\n",
      "31 fc8_b (1000,)\n"
     ]
    },
    {
     "name": "stderr",
     "output_type": "stream",
     "text": [
      "/home/ryanyao/anaconda3/envs/tensorflow/lib/python3.6/site-packages/ipykernel_launcher.py:12: DeprecationWarning: `imresize` is deprecated!\n",
      "`imresize` is deprecated in SciPy 1.0.0, and will be removed in 1.2.0.\n",
      "Use ``skimage.transform.resize`` instead.\n",
      "  if sys.path[0] == '':\n"
     ]
    },
    {
     "name": "stdout",
     "output_type": "stream",
     "text": [
      "(3, 1000)\n",
      "-------------------------\n",
      "weasel 0.69338626\n",
      "polecat, fitch, foulmart, foumart, Mustela putorius 0.17538808\n",
      "mink 0.12208499\n",
      "black-footed ferret, ferret, Mustela nigripes 0.0088706175\n",
      "otter 0.00012108345\n",
      "-------------------------\n",
      "tabby, tabby cat 0.4439661\n",
      "tiger cat 0.37369618\n",
      "Egyptian cat 0.103886746\n",
      "radiator 0.005209279\n",
      "space heater 0.0045073503\n",
      "-------------------------\n",
      "toy terrier 0.6803911\n",
      "Siberian husky 0.08027274\n",
      "Italian greyhound 0.057303444\n",
      "Eskimo dog, husky 0.022393296\n",
      "Ibizan hound, Ibizan Podenco 0.0189182\n"
     ]
    }
   ],
   "source": [
    "# show_pics()\n",
    "# trained_predict()\n",
    "trained_predict_multi()"
   ]
  },
  {
   "cell_type": "code",
   "execution_count": null,
   "metadata": {},
   "outputs": [],
   "source": []
  }
 ],
 "metadata": {
  "kernelspec": {
   "display_name": "Python 3",
   "language": "python",
   "name": "python3"
  },
  "language_info": {
   "codemirror_mode": {
    "name": "ipython",
    "version": 3
   },
   "file_extension": ".py",
   "mimetype": "text/x-python",
   "name": "python",
   "nbconvert_exporter": "python",
   "pygments_lexer": "ipython3",
   "version": "3.6.6"
  }
 },
 "nbformat": 4,
 "nbformat_minor": 2
}
