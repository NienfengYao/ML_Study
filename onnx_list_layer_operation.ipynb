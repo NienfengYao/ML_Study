{
 "cells": [
  {
   "cell_type": "markdown",
   "metadata": {},
   "source": [
    "# Target\n",
    "* Download model from onnx zoo.\n",
    "* List the layer function set that mode used.\n",
    "* Write function x model to excel file."
   ]
  },
  {
   "cell_type": "code",
   "execution_count": 1,
   "metadata": {},
   "outputs": [],
   "source": [
    "import onnx\n",
    "import numpy as np\n",
    "import pandas as pd\n",
    "import os\n",
    "from tvm.contrib.download import download_testdata\n",
    "\n",
    "%matplotlib inline"
   ]
  },
  {
   "cell_type": "markdown",
   "metadata": {},
   "source": [
    "## Download models from ONNX zoo"
   ]
  },
  {
   "cell_type": "code",
   "execution_count": 2,
   "metadata": {},
   "outputs": [],
   "source": [
    "download = {}\n",
    "\n",
    "# Image Classification\n",
    "download['mobilenetv2-1.0.onnx'] = 'https://s3.amazonaws.com/onnx-model-zoo/mobilenet/mobilenetv2-1.0/mobilenetv2-1.0.onnx'\n",
    "download['resnet18v1.onnx'] = 'https://s3.amazonaws.com/onnx-model-zoo/resnet/resnet18v1/resnet18v1.onnx'\n",
    "download['squeezenet1.1.onnx'] = 'https://s3.amazonaws.com/onnx-model-zoo/squeezenet/squeezenet1.1/squeezenet1.1.onnx'\n",
    "download['vgg16.onnx'] = 'https://s3.amazonaws.com/onnx-model-zoo/vgg/vgg16/vgg16.onnx'\n",
    "download['bvlc_alexnet.tar.gz'] = 'https://s3.amazonaws.com/download.onnx/models/opset_9/bvlc_alexnet.tar.gz'\n",
    "download['bvlc_googlenet.tar.gz'] = 'https://s3.amazonaws.com/download.onnx/models/opset_9/bvlc_googlenet.tar.gz'\n",
    "download['bvlc_reference_caffenet.tar.gz'] = 'https://s3.amazonaws.com/download.onnx/models/opset_9/bvlc_reference_caffenet.tar.gz'\n",
    "download['bvlc_reference_rcnn_ilsvrc13.tar.gz'] = 'https://s3.amazonaws.com/download.onnx/models/opset_9/bvlc_reference_rcnn_ilsvrc13.tar.gz'\n",
    "download['densenet121.tar.gz'] = 'https://s3.amazonaws.com/download.onnx/models/opset_9/densenet121.tar.gz'\n",
    "download['inception_v1.tar.gz'] = 'https://s3.amazonaws.com/download.onnx/models/opset_9/inception_v1.tar.gz'\n",
    "download['inception_v2.tar.gz'] = 'https://s3.amazonaws.com/download.onnx/models/opset_9/inception_v2.tar.gz'\n",
    "download['shufflenet.tar.gz'] = 'https://s3.amazonaws.com/download.onnx/models/opset_9/shufflenet.tar.gz'\n",
    "download['zfnet512.tar.gz'] = 'https://s3.amazonaws.com/download.onnx/models/opset_9/zfnet512.tar.gz'\n",
    "download['mnist.tar.gz'] = 'https://onnxzoo.blob.core.windows.net/models/opset_8/mnist/mnist.tar.gz'\n",
    "\n",
    "# for i, (name, path) in enumerate(download.items()):\n",
    "#     print(i, name, path)"
   ]
  },
  {
   "cell_type": "code",
   "execution_count": 3,
   "metadata": {},
   "outputs": [
    {
     "name": "stdout",
     "output_type": "stream",
     "text": [
      "0 mobilenetv2-1.0.onnx https://s3.amazonaws.com/onnx-model-zoo/mobilenet/mobilenetv2-1.0/mobilenetv2-1.0.onnx\n",
      "1 resnet18v1.onnx https://s3.amazonaws.com/onnx-model-zoo/resnet/resnet18v1/resnet18v1.onnx\n",
      "2 squeezenet1.1.onnx https://s3.amazonaws.com/onnx-model-zoo/squeezenet/squeezenet1.1/squeezenet1.1.onnx\n",
      "3 vgg16.onnx https://s3.amazonaws.com/onnx-model-zoo/vgg/vgg16/vgg16.onnx\n",
      "4 bvlc_alexnet.tar.gz https://s3.amazonaws.com/download.onnx/models/opset_9/bvlc_alexnet.tar.gz\n",
      "5 bvlc_googlenet.tar.gz https://s3.amazonaws.com/download.onnx/models/opset_9/bvlc_googlenet.tar.gz\n",
      "6 bvlc_reference_caffenet.tar.gz https://s3.amazonaws.com/download.onnx/models/opset_9/bvlc_reference_caffenet.tar.gz\n",
      "7 bvlc_reference_rcnn_ilsvrc13.tar.gz https://s3.amazonaws.com/download.onnx/models/opset_9/bvlc_reference_rcnn_ilsvrc13.tar.gz\n",
      "8 densenet121.tar.gz https://s3.amazonaws.com/download.onnx/models/opset_9/densenet121.tar.gz\n",
      "9 inception_v1.tar.gz https://s3.amazonaws.com/download.onnx/models/opset_9/inception_v1.tar.gz\n",
      "10 inception_v2.tar.gz https://s3.amazonaws.com/download.onnx/models/opset_9/inception_v2.tar.gz\n",
      "11 shufflenet.tar.gz https://s3.amazonaws.com/download.onnx/models/opset_9/shufflenet.tar.gz\n",
      "12 zfnet512.tar.gz https://s3.amazonaws.com/download.onnx/models/opset_9/zfnet512.tar.gz\n",
      "13 mnist.tar.gz https://onnxzoo.blob.core.windows.net/models/opset_8/mnist/mnist.tar.gz\n"
     ]
    }
   ],
   "source": [
    "def download_onnx(download):\n",
    "    for i, (model_name, model_url) in enumerate(download.items()):\n",
    "        print(i, model_name, model_url)\n",
    "        # model_path = download_testdata(model_url, model_name, module='onnx')\n",
    "        # print(model_path)\n",
    "\n",
    "download_onnx(download)"
   ]
  },
  {
   "cell_type": "markdown",
   "metadata": {},
   "source": [
    "## Manually untar model.tar.gz\n",
    "Untar model.tar.gz and copy/rename model/model.onnx to onnx_dir"
   ]
  },
  {
   "cell_type": "code",
   "execution_count": 4,
   "metadata": {},
   "outputs": [],
   "source": [
    "onnx_dir = '/home/ryanyao/.tvm_test_data/onnx/'"
   ]
  },
  {
   "cell_type": "code",
   "execution_count": 5,
   "metadata": {},
   "outputs": [],
   "source": [
    "onnx_models = ['mobilenetv2-1.0.onnx', 'resnet18v1.onnx', 'squeezenet1.1.onnx', 'vgg16.onnx']\n",
    "onnx_models += ['alexnet.onnx', 'googlenet.onnx', 'caffenet.onnx', 'rcnn.onnx']\n",
    "onnx_models += ['densenet.onnx', 'inception_v1.onnx', 'inception_v2.onnx', 'shufflenet.onnx']\n",
    "onnx_models += ['zfnet512.onnx', 'mnist.onnx']\n",
    "# print(onnx_models)"
   ]
  },
  {
   "cell_type": "code",
   "execution_count": 6,
   "metadata": {},
   "outputs": [
    {
     "name": "stdout",
     "output_type": "stream",
     "text": [
      "Check onnx model exist. Please Continue.\n"
     ]
    }
   ],
   "source": [
    "def check_onnx_models(onnx_models):\n",
    "    for model in onnx_models:\n",
    "        model_path = os.path.join(onnx_dir, model)\n",
    "        # print(model_path)\n",
    "        if not os.path.exists(model_path):\n",
    "            print(\"%s doesn't exist.\" % model_path)\n",
    "            return False\n",
    "    return True\n",
    "    \n",
    "if not check_onnx_models(onnx_models):\n",
    "    print(\"Error: Please check onnx model, it seems missed.\")\n",
    "else:\n",
    "    print(\"Check onnx model exist. Please Continue.\")"
   ]
  },
  {
   "cell_type": "code",
   "execution_count": 7,
   "metadata": {},
   "outputs": [],
   "source": [
    "def get_op(onnx_models):\n",
    "    op_set = {}\n",
    "    for i, name in enumerate(onnx_models):\n",
    "        print(i, name)        \n",
    "        # print(os.path.join(onnx_path, name))\n",
    "        \n",
    "        model = onnx.load(os.path.join(onnx_dir, name))\n",
    "        # get node number\n",
    "        node_no = len(model.graph.node)\n",
    "        # print('node_no = ', node_no)\n",
    "        # get op set\n",
    "        op_set[name] = set([x.op_type for x in model.graph.node])\n",
    "        \n",
    "    return op_set  "
   ]
  },
  {
   "cell_type": "code",
   "execution_count": 8,
   "metadata": {},
   "outputs": [
    {
     "name": "stdout",
     "output_type": "stream",
     "text": [
      "0 mobilenetv2-1.0.onnx\n",
      "1 resnet18v1.onnx\n",
      "2 squeezenet1.1.onnx\n",
      "3 vgg16.onnx\n",
      "4 alexnet.onnx\n",
      "5 googlenet.onnx\n",
      "6 caffenet.onnx\n",
      "7 rcnn.onnx\n",
      "8 densenet.onnx\n",
      "9 inception_v1.onnx\n",
      "10 inception_v2.onnx\n",
      "11 shufflenet.onnx\n",
      "12 zfnet512.onnx\n",
      "13 mnist.onnx\n"
     ]
    }
   ],
   "source": [
    "op_set = get_op(onnx_models)"
   ]
  },
  {
   "cell_type": "code",
   "execution_count": 9,
   "metadata": {},
   "outputs": [],
   "source": [
    "# for name, op in op_set.items():\n",
    "#     print(name, sorted(op))"
   ]
  },
  {
   "cell_type": "code",
   "execution_count": 10,
   "metadata": {},
   "outputs": [],
   "source": [
    "op_set_union = sorted(set.union(*op_set.values()))\n",
    "# print(op_set_union)"
   ]
  },
  {
   "cell_type": "code",
   "execution_count": 11,
   "metadata": {},
   "outputs": [],
   "source": [
    "table = {}\n",
    "for name, op in op_set.items():\n",
    "    table[name] = ['T' if (x in op) else 'F' for x in op_set_union]\n",
    "# print(table)"
   ]
  },
  {
   "cell_type": "code",
   "execution_count": 12,
   "metadata": {},
   "outputs": [
    {
     "name": "stdout",
     "output_type": "stream",
     "text": [
      "                   mobilenetv2-1.0.onnx resnet18v1.onnx squeezenet1.1.onnx  \\\n",
      "Add                                   T               T                  F   \n",
      "AveragePool                           F               F                  T   \n",
      "BatchNormalization                    T               T                  F   \n",
      "Concat                                F               F                  T   \n",
      "Conv                                  T               T                  T   \n",
      "Dropout                               F               F                  T   \n",
      "Flatten                               F               T                  F   \n",
      "Gemm                                  F               T                  F   \n",
      "GlobalAveragePool                     T               T                  F   \n",
      "LRN                                   F               F                  F   \n",
      "MatMul                                F               F                  F   \n",
      "MaxPool                               F               T                  T   \n",
      "Mul                                   F               F                  F   \n",
      "Relu                                  T               T                  T   \n",
      "Reshape                               T               F                  T   \n",
      "Softmax                               F               F                  F   \n",
      "Sum                                   F               F                  F   \n",
      "Transpose                             F               F                  F   \n",
      "Unsqueeze                             F               F                  F   \n",
      "\n",
      "                   vgg16.onnx alexnet.onnx googlenet.onnx caffenet.onnx  \\\n",
      "Add                         F            F              F             F   \n",
      "AveragePool                 F            F              T             F   \n",
      "BatchNormalization          F            F              F             F   \n",
      "Concat                      F            F              T             F   \n",
      "Conv                        T            T              T             T   \n",
      "Dropout                     T            T              T             T   \n",
      "Flatten                     T            F              F             F   \n",
      "Gemm                        T            T              T             T   \n",
      "GlobalAveragePool           F            F              F             F   \n",
      "LRN                         F            T              T             T   \n",
      "MatMul                      F            F              F             F   \n",
      "MaxPool                     T            T              T             T   \n",
      "Mul                         F            F              F             F   \n",
      "Relu                        T            T              T             T   \n",
      "Reshape                     F            T              T             T   \n",
      "Softmax                     F            T              T             T   \n",
      "Sum                         F            F              F             F   \n",
      "Transpose                   F            F              F             F   \n",
      "Unsqueeze                   F            F              F             F   \n",
      "\n",
      "                   rcnn.onnx densenet.onnx inception_v1.onnx  \\\n",
      "Add                        F             T                 F   \n",
      "AveragePool                F             T                 T   \n",
      "BatchNormalization         F             T                 F   \n",
      "Concat                     F             T                 T   \n",
      "Conv                       T             T                 T   \n",
      "Dropout                    T             F                 T   \n",
      "Flatten                    F             F                 F   \n",
      "Gemm                       T             F                 T   \n",
      "GlobalAveragePool          F             T                 F   \n",
      "LRN                        T             F                 T   \n",
      "MatMul                     F             F                 F   \n",
      "MaxPool                    T             T                 T   \n",
      "Mul                        F             T                 F   \n",
      "Relu                       T             T                 T   \n",
      "Reshape                    T             F                 T   \n",
      "Softmax                    F             F                 T   \n",
      "Sum                        F             F                 F   \n",
      "Transpose                  F             F                 F   \n",
      "Unsqueeze                  F             T                 F   \n",
      "\n",
      "                   inception_v2.onnx shufflenet.onnx zfnet512.onnx mnist.onnx  \n",
      "Add                                T               F             F          T  \n",
      "AveragePool                        T               T             F          F  \n",
      "BatchNormalization                 T               T             F          F  \n",
      "Concat                             T               T             F          F  \n",
      "Conv                               T               T             T          T  \n",
      "Dropout                            F               F             F          F  \n",
      "Flatten                            F               F             F          F  \n",
      "Gemm                               T               T             T          F  \n",
      "GlobalAveragePool                  F               F             F          F  \n",
      "LRN                                F               F             T          F  \n",
      "MatMul                             F               F             F          T  \n",
      "MaxPool                            T               T             T          T  \n",
      "Mul                                T               F             F          F  \n",
      "Relu                               T               T             T          T  \n",
      "Reshape                            T               T             T          T  \n",
      "Softmax                            T               T             T          F  \n",
      "Sum                                F               T             F          F  \n",
      "Transpose                          F               T             F          F  \n",
      "Unsqueeze                          T               F             F          F  \n"
     ]
    }
   ],
   "source": [
    "df = pd.DataFrame(data=table, index=op_set_union)\n",
    "print(df)"
   ]
  },
  {
   "cell_type": "markdown",
   "metadata": {},
   "source": [
    "## Write to excel"
   ]
  },
  {
   "cell_type": "code",
   "execution_count": 13,
   "metadata": {},
   "outputs": [],
   "source": [
    "df.to_excel(os.path.join(onnx_dir, 'onnx_zoo.xlsx'))"
   ]
  },
  {
   "cell_type": "code",
   "execution_count": null,
   "metadata": {},
   "outputs": [],
   "source": []
  }
 ],
 "metadata": {
  "kernelspec": {
   "display_name": "Python 3",
   "language": "python",
   "name": "python3"
  },
  "language_info": {
   "codemirror_mode": {
    "name": "ipython",
    "version": 3
   },
   "file_extension": ".py",
   "mimetype": "text/x-python",
   "name": "python",
   "nbconvert_exporter": "python",
   "pygments_lexer": "ipython3",
   "version": "3.7.3"
  }
 },
 "nbformat": 4,
 "nbformat_minor": 2
}
