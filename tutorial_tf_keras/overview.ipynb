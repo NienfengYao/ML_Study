{
 "cells": [
  {
   "cell_type": "markdown",
   "metadata": {},
   "source": [
    "# [Learn and use machine learning](https://www.tensorflow.org/tutorials/keras/)\n",
    "* These tutorials use tf.keras, TensorFlow's high-level Python API for building and training deep learning models.\n",
    "* This tutorial builds your understanding through intuitive explanations and practical examples.\n",
    "* Include these topic\n",
    "  1. Basic classification\n",
    "  1. Text classification\n",
    "  1. Regression\n",
    "  1. Overfitting and underfitting\n",
    "  1. Save and restore models\n",
    "* Ref:\n",
    "  * To learn more about using Keras with TensorFlow, see the [TensorFlow Keras Guide](https://www.tensorflow.org/guide/keras).\n",
    "  * To learn about machine learning fundamentals and concepts, consider taking the [Machine Learning Crash Course](https://developers.google.com/machine-learning/crash-course/).\n",
    "  * Additional TensorFlow and machine learning resources are listed in [next steps](https://www.tensorflow.org/tutorials/next_steps)."
   ]
  },
  {
   "cell_type": "code",
   "execution_count": null,
   "metadata": {},
   "outputs": [],
   "source": []
  }
 ],
 "metadata": {
  "kernelspec": {
   "display_name": "Python 3",
   "language": "python",
   "name": "python3"
  },
  "language_info": {
   "codemirror_mode": {
    "name": "ipython",
    "version": 3
   },
   "file_extension": ".py",
   "mimetype": "text/x-python",
   "name": "python",
   "nbconvert_exporter": "python",
   "pygments_lexer": "ipython3",
   "version": "3.6.6"
  }
 },
 "nbformat": 4,
 "nbformat_minor": 2
}
