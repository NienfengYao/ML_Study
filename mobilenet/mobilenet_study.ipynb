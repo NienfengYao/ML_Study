{
 "cells": [
  {
   "cell_type": "markdown",
   "metadata": {},
   "source": [
    "# MobileNet Study\n",
    "* [mobilenet_pretrained_inference.ipynb](mobilenet_pretrained_inference.ipynb)\n",
    "  * 下載 Keras: MobileNet，觀看其 architecture 及做 inference\n",
    "* [mobilenet_pretrained_transfer_learning.ipynb](mobilenet_pretrained_transfer_learning.ipynb)\n",
    "  * 下載 Keras: MobileNet，使用[Kaggle: Dogs vs. Cats](https://www.kaggle.com/c/dogs-vs-cats/) 做 transfer learning。並計算其凖確度。"
   ]
  },
  {
   "cell_type": "code",
   "execution_count": null,
   "metadata": {},
   "outputs": [],
   "source": []
  }
 ],
 "metadata": {
  "kernelspec": {
   "display_name": "Python 3",
   "language": "python",
   "name": "python3"
  },
  "language_info": {
   "codemirror_mode": {
    "name": "ipython",
    "version": 3
   },
   "file_extension": ".py",
   "mimetype": "text/x-python",
   "name": "python",
   "nbconvert_exporter": "python",
   "pygments_lexer": "ipython3",
   "version": "3.7.3"
  }
 },
 "nbformat": 4,
 "nbformat_minor": 2
}
